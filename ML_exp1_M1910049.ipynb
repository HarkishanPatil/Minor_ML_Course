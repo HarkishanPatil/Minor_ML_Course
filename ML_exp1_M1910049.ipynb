{
  "cells": [
    {
      "cell_type": "markdown",
      "metadata": {
        "id": "view-in-github",
        "colab_type": "text"
      },
      "source": [
        "<a href=\"https://colab.research.google.com/github/HarkishanPatil/Minor_ML_Course/blob/main/ML_exp1_M1910049.ipynb\" target=\"_parent\"><img src=\"https://colab.research.google.com/assets/colab-badge.svg\" alt=\"Open In Colab\"/></a>"
      ]
    },
    {
      "cell_type": "markdown",
      "metadata": {
        "id": "o3V4a2VPfS7C"
      },
      "source": [
        "# Exploring Datasets with Python"
      ]
    },
    {
      "cell_type": "markdown",
      "metadata": {
        "id": "75LvHTB5fS7E"
      },
      "source": [
        "In this short demo we will analyse a given dataset from 1978, which contains information about politicians having affairs. \n",
        "\n",
        "To analyse it, we will use a [Jupyter Notebook](http://jupyter.org/), which is basically a *REPL++* for Python. Entering a command with shift executes the line and prints the result."
      ]
    },
    {
      "cell_type": "code",
      "execution_count": null,
      "metadata": {
        "id": "3IIU-dHjfS7F"
      },
      "outputs": [],
      "source": []
    },
    {
      "cell_type": "code",
      "execution_count": null,
      "metadata": {
        "id": "25TrdjlqfS7H"
      },
      "outputs": [],
      "source": []
    },
    {
      "cell_type": "markdown",
      "metadata": {
        "id": "sDkd6fztfS7H"
      },
      "source": [
        "To work with common files like CSV, JSON, Excel files etc., we will use [Pandas](http://pandas.pydata.org/), _an open source, BSD-licensed library providing high-performance, easy-to-use data structures and data analysis tools for the Python programming language_™. Let's import it!"
      ]
    },
    {
      "cell_type": "code",
      "execution_count": 2,
      "metadata": {
        "collapsed": true,
        "id": "yC9FrztIfS7I"
      },
      "outputs": [],
      "source": [
        "import pandas as pd"
      ]
    },
    {
      "cell_type": "markdown",
      "metadata": {
        "id": "olIVH5d_fS7I"
      },
      "source": [
        "Our dataset is given as a CSV file. Pandas provides an easy way to read our file with `read_csv`. The path of the file to read is relative to our notebook file. The path can also be an URL, supporting HTTP, FTP and also S3 if your data is stored inside an AWS S3 Bucket!"
      ]
    },
    {
      "cell_type": "code",
      "execution_count": 3,
      "metadata": {
        "collapsed": true,
        "id": "hWCzFihhfS7I"
      },
      "outputs": [],
      "source": [
        "data = pd.read_excel(\"//content//MortalityDataWHR2021C2.xlsx\")"
      ]
    },
    {
      "cell_type": "markdown",
      "metadata": {
        "id": "PjXjnEtYfS7J"
      },
      "source": [
        "The first thing we will check is the size of our dataset. We can use `info()` to get the number of entries of each column."
      ]
    },
    {
      "cell_type": "code",
      "execution_count": 4,
      "metadata": {
        "colab": {
          "base_uri": "https://localhost:8080/"
        },
        "id": "qySm4W9ZfS7J",
        "outputId": "bd634cd5-9213-4444-b1c2-601bce5172a4"
      },
      "outputs": [
        {
          "output_type": "stream",
          "name": "stdout",
          "text": [
            "<class 'pandas.core.frame.DataFrame'>\n",
            "RangeIndex: 166 entries, 0 to 165\n",
            "Data columns (total 17 columns):\n",
            " #   Column                                                                       Non-Null Count  Dtype  \n",
            "---  ------                                                                       --------------  -----  \n",
            " 0   Country name                                                                 166 non-null    object \n",
            " 1   Population 2020                                                              164 non-null    float64\n",
            " 2   Population 2019                                                              164 non-null    float64\n",
            " 3   COVID-19 deaths per 100,000 population in 2020                               163 non-null    float64\n",
            " 4   Median age                                                                   163 non-null    float64\n",
            " 5   Island                                                                       166 non-null    int64  \n",
            " 6   Index of exposure to COVID-19  infections in other countries as of March 31  164 non-null    float64\n",
            " 7   Log of average distance to SARS countries                                    164 non-null    float64\n",
            " 8   WHO Western Pacific Region                                                   166 non-null    int64  \n",
            " 9   Female head of government                                                    166 non-null    int64  \n",
            " 10  Index of institutional trust                                                 165 non-null    float64\n",
            " 11  Gini coefficient of income                                                   164 non-null    float64\n",
            " 12  All-cause death count, 2017                                                  63 non-null     float64\n",
            " 13  All-cause death count, 2018                                                  64 non-null     float64\n",
            " 14  All-cause death count, 2019                                                  64 non-null     float64\n",
            " 15  All-cause death count, 2020                                                  65 non-null     float64\n",
            " 16  Excess deaths in 2020 per 100,000 population, relative to 2017-2019 average  64 non-null     float64\n",
            "dtypes: float64(13), int64(3), object(1)\n",
            "memory usage: 22.2+ KB\n"
          ]
        }
      ],
      "source": [
        "data.info()"
      ]
    },
    {
      "cell_type": "markdown",
      "metadata": {
        "id": "WPDqG-1FfS7J"
      },
      "source": [
        "Now we know how many data is inside our file. Pandas is smart enough to parse the column titles by itself and estimate the data types of each column.\n",
        "\n",
        "You may be curious how the data looks like. Let's see by using `head()`, which will print the first 5 rows."
      ]
    },
    {
      "cell_type": "code",
      "execution_count": 5,
      "metadata": {
        "colab": {
          "base_uri": "https://localhost:8080/",
          "height": 444
        },
        "id": "GkM_0lDafS7J",
        "outputId": "8e9ebe9e-d5e6-4281-a24a-5acb0939cc72"
      },
      "outputs": [
        {
          "output_type": "execute_result",
          "data": {
            "text/plain": [
              "    Country name  Population 2020  Population 2019  \\\n",
              "0  United States      331002647.0      328239523.0   \n",
              "1          Egypt      102334403.0      100388073.0   \n",
              "2        Morocco       36910558.0       36471769.0   \n",
              "3        Lebanon        6825442.0        6855713.0   \n",
              "4   Saudi Arabia       34813867.0       34268528.0   \n",
              "\n",
              "   COVID-19 deaths per 100,000 population in 2020  Median age  Island  \\\n",
              "0                                      104.451401   38.299999       0   \n",
              "1                                        7.456900   25.299999       0   \n",
              "2                                       20.016001   29.600000       0   \n",
              "3                                       21.507801   31.100000       0   \n",
              "4                                       17.875101   31.900000       0   \n",
              "\n",
              "   Index of exposure to COVID-19  infections in other countries as of March 31  \\\n",
              "0                                           1.687503                             \n",
              "1                                           1.626675                             \n",
              "2                                           2.336053                             \n",
              "3                                           1.891434                             \n",
              "4                                           1.250483                             \n",
              "\n",
              "   Log of average distance to SARS countries  WHO Western Pacific Region  \\\n",
              "0                                   9.314896                           0   \n",
              "1                                   9.006860                           0   \n",
              "2                                   9.226011                           0   \n",
              "3                                   8.956014                           0   \n",
              "4                                   8.896798                           0   \n",
              "\n",
              "   Female head of government  Index of institutional trust  \\\n",
              "0                          0                      0.250043   \n",
              "1                          0                      0.445924   \n",
              "2                          0                      0.397255   \n",
              "3                          0                      0.106633   \n",
              "4                          0                      0.650619   \n",
              "\n",
              "   Gini coefficient of income  All-cause death count, 2017  \\\n",
              "0                       47.51                    2810927.0   \n",
              "1                       31.56                          NaN   \n",
              "2                       39.55                          NaN   \n",
              "3                       31.83                          NaN   \n",
              "4                       45.90                          NaN   \n",
              "\n",
              "   All-cause death count, 2018  All-cause death count, 2019  \\\n",
              "0                    2839076.0                    2852747.0   \n",
              "1                          NaN                          NaN   \n",
              "2                          NaN                          NaN   \n",
              "3                          NaN                          NaN   \n",
              "4                          NaN                          NaN   \n",
              "\n",
              "   All-cause death count, 2020  \\\n",
              "0                    3424996.0   \n",
              "1                          NaN   \n",
              "2                          NaN   \n",
              "3                          NaN   \n",
              "4                          NaN   \n",
              "\n",
              "   Excess deaths in 2020 per 100,000 population, relative to 2017-2019 average  \n",
              "0                                         179.219727                            \n",
              "1                                                NaN                            \n",
              "2                                                NaN                            \n",
              "3                                                NaN                            \n",
              "4                                                NaN                            "
            ],
            "text/html": [
              "\n",
              "  <div id=\"df-5a68595a-4e9c-4981-b6ce-344613f8cadb\">\n",
              "    <div class=\"colab-df-container\">\n",
              "      <div>\n",
              "<style scoped>\n",
              "    .dataframe tbody tr th:only-of-type {\n",
              "        vertical-align: middle;\n",
              "    }\n",
              "\n",
              "    .dataframe tbody tr th {\n",
              "        vertical-align: top;\n",
              "    }\n",
              "\n",
              "    .dataframe thead th {\n",
              "        text-align: right;\n",
              "    }\n",
              "</style>\n",
              "<table border=\"1\" class=\"dataframe\">\n",
              "  <thead>\n",
              "    <tr style=\"text-align: right;\">\n",
              "      <th></th>\n",
              "      <th>Country name</th>\n",
              "      <th>Population 2020</th>\n",
              "      <th>Population 2019</th>\n",
              "      <th>COVID-19 deaths per 100,000 population in 2020</th>\n",
              "      <th>Median age</th>\n",
              "      <th>Island</th>\n",
              "      <th>Index of exposure to COVID-19  infections in other countries as of March 31</th>\n",
              "      <th>Log of average distance to SARS countries</th>\n",
              "      <th>WHO Western Pacific Region</th>\n",
              "      <th>Female head of government</th>\n",
              "      <th>Index of institutional trust</th>\n",
              "      <th>Gini coefficient of income</th>\n",
              "      <th>All-cause death count, 2017</th>\n",
              "      <th>All-cause death count, 2018</th>\n",
              "      <th>All-cause death count, 2019</th>\n",
              "      <th>All-cause death count, 2020</th>\n",
              "      <th>Excess deaths in 2020 per 100,000 population, relative to 2017-2019 average</th>\n",
              "    </tr>\n",
              "  </thead>\n",
              "  <tbody>\n",
              "    <tr>\n",
              "      <th>0</th>\n",
              "      <td>United States</td>\n",
              "      <td>331002647.0</td>\n",
              "      <td>328239523.0</td>\n",
              "      <td>104.451401</td>\n",
              "      <td>38.299999</td>\n",
              "      <td>0</td>\n",
              "      <td>1.687503</td>\n",
              "      <td>9.314896</td>\n",
              "      <td>0</td>\n",
              "      <td>0</td>\n",
              "      <td>0.250043</td>\n",
              "      <td>47.51</td>\n",
              "      <td>2810927.0</td>\n",
              "      <td>2839076.0</td>\n",
              "      <td>2852747.0</td>\n",
              "      <td>3424996.0</td>\n",
              "      <td>179.219727</td>\n",
              "    </tr>\n",
              "    <tr>\n",
              "      <th>1</th>\n",
              "      <td>Egypt</td>\n",
              "      <td>102334403.0</td>\n",
              "      <td>100388073.0</td>\n",
              "      <td>7.456900</td>\n",
              "      <td>25.299999</td>\n",
              "      <td>0</td>\n",
              "      <td>1.626675</td>\n",
              "      <td>9.006860</td>\n",
              "      <td>0</td>\n",
              "      <td>0</td>\n",
              "      <td>0.445924</td>\n",
              "      <td>31.56</td>\n",
              "      <td>NaN</td>\n",
              "      <td>NaN</td>\n",
              "      <td>NaN</td>\n",
              "      <td>NaN</td>\n",
              "      <td>NaN</td>\n",
              "    </tr>\n",
              "    <tr>\n",
              "      <th>2</th>\n",
              "      <td>Morocco</td>\n",
              "      <td>36910558.0</td>\n",
              "      <td>36471769.0</td>\n",
              "      <td>20.016001</td>\n",
              "      <td>29.600000</td>\n",
              "      <td>0</td>\n",
              "      <td>2.336053</td>\n",
              "      <td>9.226011</td>\n",
              "      <td>0</td>\n",
              "      <td>0</td>\n",
              "      <td>0.397255</td>\n",
              "      <td>39.55</td>\n",
              "      <td>NaN</td>\n",
              "      <td>NaN</td>\n",
              "      <td>NaN</td>\n",
              "      <td>NaN</td>\n",
              "      <td>NaN</td>\n",
              "    </tr>\n",
              "    <tr>\n",
              "      <th>3</th>\n",
              "      <td>Lebanon</td>\n",
              "      <td>6825442.0</td>\n",
              "      <td>6855713.0</td>\n",
              "      <td>21.507801</td>\n",
              "      <td>31.100000</td>\n",
              "      <td>0</td>\n",
              "      <td>1.891434</td>\n",
              "      <td>8.956014</td>\n",
              "      <td>0</td>\n",
              "      <td>0</td>\n",
              "      <td>0.106633</td>\n",
              "      <td>31.83</td>\n",
              "      <td>NaN</td>\n",
              "      <td>NaN</td>\n",
              "      <td>NaN</td>\n",
              "      <td>NaN</td>\n",
              "      <td>NaN</td>\n",
              "    </tr>\n",
              "    <tr>\n",
              "      <th>4</th>\n",
              "      <td>Saudi Arabia</td>\n",
              "      <td>34813867.0</td>\n",
              "      <td>34268528.0</td>\n",
              "      <td>17.875101</td>\n",
              "      <td>31.900000</td>\n",
              "      <td>0</td>\n",
              "      <td>1.250483</td>\n",
              "      <td>8.896798</td>\n",
              "      <td>0</td>\n",
              "      <td>0</td>\n",
              "      <td>0.650619</td>\n",
              "      <td>45.90</td>\n",
              "      <td>NaN</td>\n",
              "      <td>NaN</td>\n",
              "      <td>NaN</td>\n",
              "      <td>NaN</td>\n",
              "      <td>NaN</td>\n",
              "    </tr>\n",
              "  </tbody>\n",
              "</table>\n",
              "</div>\n",
              "      <button class=\"colab-df-convert\" onclick=\"convertToInteractive('df-5a68595a-4e9c-4981-b6ce-344613f8cadb')\"\n",
              "              title=\"Convert this dataframe to an interactive table.\"\n",
              "              style=\"display:none;\">\n",
              "        \n",
              "  <svg xmlns=\"http://www.w3.org/2000/svg\" height=\"24px\"viewBox=\"0 0 24 24\"\n",
              "       width=\"24px\">\n",
              "    <path d=\"M0 0h24v24H0V0z\" fill=\"none\"/>\n",
              "    <path d=\"M18.56 5.44l.94 2.06.94-2.06 2.06-.94-2.06-.94-.94-2.06-.94 2.06-2.06.94zm-11 1L8.5 8.5l.94-2.06 2.06-.94-2.06-.94L8.5 2.5l-.94 2.06-2.06.94zm10 10l.94 2.06.94-2.06 2.06-.94-2.06-.94-.94-2.06-.94 2.06-2.06.94z\"/><path d=\"M17.41 7.96l-1.37-1.37c-.4-.4-.92-.59-1.43-.59-.52 0-1.04.2-1.43.59L10.3 9.45l-7.72 7.72c-.78.78-.78 2.05 0 2.83L4 21.41c.39.39.9.59 1.41.59.51 0 1.02-.2 1.41-.59l7.78-7.78 2.81-2.81c.8-.78.8-2.07 0-2.86zM5.41 20L4 18.59l7.72-7.72 1.47 1.35L5.41 20z\"/>\n",
              "  </svg>\n",
              "      </button>\n",
              "      \n",
              "  <style>\n",
              "    .colab-df-container {\n",
              "      display:flex;\n",
              "      flex-wrap:wrap;\n",
              "      gap: 12px;\n",
              "    }\n",
              "\n",
              "    .colab-df-convert {\n",
              "      background-color: #E8F0FE;\n",
              "      border: none;\n",
              "      border-radius: 50%;\n",
              "      cursor: pointer;\n",
              "      display: none;\n",
              "      fill: #1967D2;\n",
              "      height: 32px;\n",
              "      padding: 0 0 0 0;\n",
              "      width: 32px;\n",
              "    }\n",
              "\n",
              "    .colab-df-convert:hover {\n",
              "      background-color: #E2EBFA;\n",
              "      box-shadow: 0px 1px 2px rgba(60, 64, 67, 0.3), 0px 1px 3px 1px rgba(60, 64, 67, 0.15);\n",
              "      fill: #174EA6;\n",
              "    }\n",
              "\n",
              "    [theme=dark] .colab-df-convert {\n",
              "      background-color: #3B4455;\n",
              "      fill: #D2E3FC;\n",
              "    }\n",
              "\n",
              "    [theme=dark] .colab-df-convert:hover {\n",
              "      background-color: #434B5C;\n",
              "      box-shadow: 0px 1px 3px 1px rgba(0, 0, 0, 0.15);\n",
              "      filter: drop-shadow(0px 1px 2px rgba(0, 0, 0, 0.3));\n",
              "      fill: #FFFFFF;\n",
              "    }\n",
              "  </style>\n",
              "\n",
              "      <script>\n",
              "        const buttonEl =\n",
              "          document.querySelector('#df-5a68595a-4e9c-4981-b6ce-344613f8cadb button.colab-df-convert');\n",
              "        buttonEl.style.display =\n",
              "          google.colab.kernel.accessAllowed ? 'block' : 'none';\n",
              "\n",
              "        async function convertToInteractive(key) {\n",
              "          const element = document.querySelector('#df-5a68595a-4e9c-4981-b6ce-344613f8cadb');\n",
              "          const dataTable =\n",
              "            await google.colab.kernel.invokeFunction('convertToInteractive',\n",
              "                                                     [key], {});\n",
              "          if (!dataTable) return;\n",
              "\n",
              "          const docLinkHtml = 'Like what you see? Visit the ' +\n",
              "            '<a target=\"_blank\" href=https://colab.research.google.com/notebooks/data_table.ipynb>data table notebook</a>'\n",
              "            + ' to learn more about interactive tables.';\n",
              "          element.innerHTML = '';\n",
              "          dataTable['output_type'] = 'display_data';\n",
              "          await google.colab.output.renderOutput(dataTable, element);\n",
              "          const docLink = document.createElement('div');\n",
              "          docLink.innerHTML = docLinkHtml;\n",
              "          element.appendChild(docLink);\n",
              "        }\n",
              "      </script>\n",
              "    </div>\n",
              "  </div>\n",
              "  "
            ]
          },
          "metadata": {},
          "execution_count": 5
        }
      ],
      "source": [
        "data.head()"
      ]
    },
    {
      "cell_type": "markdown",
      "metadata": {
        "id": "Q7e0HtaofS7K"
      },
      "source": [
        "We can access a column of our dataset by using bracket notation and the name of the column."
      ]
    },
    {
      "cell_type": "code",
      "execution_count": 6,
      "metadata": {
        "colab": {
          "base_uri": "https://localhost:8080/"
        },
        "id": "qLG80O7hfS7K",
        "outputId": "46fab73f-2e62-425a-f3a3-59c395e02a69"
      },
      "outputs": [
        {
          "output_type": "execute_result",
          "data": {
            "text/plain": [
              "0          United States\n",
              "1                  Egypt\n",
              "2                Morocco\n",
              "3                Lebanon\n",
              "4           Saudi Arabia\n",
              "             ...        \n",
              "161                Yemen\n",
              "162               Kosovo\n",
              "163    Somaliland region\n",
              "164         North Cyprus\n",
              "165          South Sudan\n",
              "Name: Country name, Length: 166, dtype: object"
            ]
          },
          "metadata": {},
          "execution_count": 6
        }
      ],
      "source": [
        "data[\"Country name\"]"
      ]
    },
    {
      "cell_type": "markdown",
      "metadata": {
        "id": "QjPfBzP4fS7K"
      },
      "source": [
        "For categorical features like `sex`, you can also get the distributions of each value by using `value_counts()`."
      ]
    },
    {
      "cell_type": "code",
      "execution_count": 7,
      "metadata": {
        "colab": {
          "base_uri": "https://localhost:8080/"
        },
        "id": "Ib_Cqm25fS7K",
        "outputId": "b4aa1342-8cd9-4af0-bd7c-61dcf102292d"
      },
      "outputs": [
        {
          "output_type": "execute_result",
          "data": {
            "text/plain": [
              "United States         1\n",
              "Dominican Republic    1\n",
              "El Salvador           1\n",
              "Estonia               1\n",
              "Finland               1\n",
              "                     ..\n",
              "Botswana              1\n",
              "Ethiopia              1\n",
              "Mali                  1\n",
              "Mauritania            1\n",
              "South Sudan           1\n",
              "Name: Country name, Length: 166, dtype: int64"
            ]
          },
          "metadata": {},
          "execution_count": 7
        }
      ],
      "source": [
        "data['Country name'].value_counts()"
      ]
    },
    {
      "cell_type": "markdown",
      "metadata": {
        "id": "RYNBQGd4fS7L"
      },
      "source": [
        "But what about numerical values? It definitly makes no sense to count each distinct value. Therefore, we can use `describe()`."
      ]
    },
    {
      "cell_type": "code",
      "execution_count": 8,
      "metadata": {
        "colab": {
          "base_uri": "https://localhost:8080/",
          "height": 503
        },
        "id": "fB_Vs6--fS7L",
        "outputId": "3bdd1e21-55bc-46b9-c4ef-f562518745f6"
      },
      "outputs": [
        {
          "output_type": "execute_result",
          "data": {
            "text/plain": [
              "       Population 2020  Population 2019  \\\n",
              "count     1.640000e+02     1.640000e+02   \n",
              "mean      4.718124e+07     4.646257e+07   \n",
              "std       1.598697e+08     1.568124e+08   \n",
              "min       3.412500e+05     3.613130e+05   \n",
              "25%       4.827881e+06     4.730215e+06   \n",
              "50%       1.126017e+07     1.116260e+07   \n",
              "75%       3.380537e+07     3.375262e+07   \n",
              "max       1.439324e+09     1.397715e+09   \n",
              "\n",
              "       COVID-19 deaths per 100,000 population in 2020  Median age      Island  \\\n",
              "count                                      163.000000  163.000000  166.000000   \n",
              "mean                                        30.704018   30.667485    0.132530   \n",
              "std                                         38.194221    9.332182    0.340092   \n",
              "min                                          0.000000   15.100000    0.000000   \n",
              "25%                                          1.680150   21.850000    0.000000   \n",
              "50%                                         10.125000   29.700001    0.000000   \n",
              "75%                                         46.802498   39.349998    0.000000   \n",
              "max                                        168.495697   48.200001    1.000000   \n",
              "\n",
              "       Index of exposure to COVID-19  infections in other countries as of March 31  \\\n",
              "count                                         164.000000                             \n",
              "mean                                            1.674512                             \n",
              "std                                             1.300501                             \n",
              "min                                             0.379029                             \n",
              "25%                                             0.819877                             \n",
              "50%                                             1.076515                             \n",
              "75%                                             2.231382                             \n",
              "max                                             6.343308                             \n",
              "\n",
              "       Log of average distance to SARS countries  WHO Western Pacific Region  \\\n",
              "count                                 164.000000                  166.000000   \n",
              "mean                                    9.055593                    0.084337   \n",
              "std                                     0.376316                    0.278734   \n",
              "min                                     8.044208                    0.000000   \n",
              "25%                                     8.928284                    0.000000   \n",
              "50%                                     9.068031                    0.000000   \n",
              "75%                                     9.308629                    0.000000   \n",
              "max                                     9.726268                    1.000000   \n",
              "\n",
              "       Female head of government  Index of institutional trust  \\\n",
              "count                 166.000000                    165.000000   \n",
              "mean                    0.138554                      0.316861   \n",
              "std                     0.346526                      0.172980   \n",
              "min                     0.000000                      0.046448   \n",
              "25%                     0.000000                      0.189153   \n",
              "50%                     0.000000                      0.286512   \n",
              "75%                     0.000000                      0.414875   \n",
              "max                     1.000000                      0.905728   \n",
              "\n",
              "       Gini coefficient of income  All-cause death count, 2017  \\\n",
              "count                  164.000000                 6.300000e+01   \n",
              "mean                    37.886479                 2.543131e+05   \n",
              "std                      8.300231                 4.835330e+05   \n",
              "min                     23.200000                 2.229000e+03   \n",
              "25%                     32.250000                 2.884000e+04   \n",
              "50%                     37.121250                 7.004900e+04   \n",
              "75%                     43.825000                 1.696710e+05   \n",
              "max                     65.426000                 2.810927e+06   \n",
              "\n",
              "       All-cause death count, 2018  All-cause death count, 2019  \\\n",
              "count                 6.400000e+01                 6.400000e+01   \n",
              "mean                  2.543317e+05                 2.552972e+05   \n",
              "std                   4.844878e+05                 4.861756e+05   \n",
              "min                   2.247000e+03                 2.200000e+03   \n",
              "25%                   3.015150e+04                 2.995400e+04   \n",
              "50%                   6.932850e+04                 7.049700e+04   \n",
              "75%                   1.722710e+05                 1.743490e+05   \n",
              "max                   2.839076e+06                 2.852747e+06   \n",
              "\n",
              "       All-cause death count, 2020  \\\n",
              "count                 6.500000e+01   \n",
              "mean                  2.984399e+05   \n",
              "std                   5.654272e+05   \n",
              "min                   2.321000e+03   \n",
              "25%                   3.317700e+04   \n",
              "50%                   9.155300e+04   \n",
              "75%                   2.145030e+05   \n",
              "max                   3.424996e+06   \n",
              "\n",
              "       Excess deaths in 2020 per 100,000 population, relative to 2017-2019 average  \n",
              "count                                          64.000000                            \n",
              "mean                                          109.163519                            \n",
              "std                                            82.578199                            \n",
              "min                                           -26.467947                            \n",
              "25%                                            34.934444                            \n",
              "50%                                           104.437958                            \n",
              "75%                                           170.728413                            \n",
              "max                                           323.475708                            "
            ],
            "text/html": [
              "\n",
              "  <div id=\"df-22c86360-b12d-4e25-9222-7483469a10a0\">\n",
              "    <div class=\"colab-df-container\">\n",
              "      <div>\n",
              "<style scoped>\n",
              "    .dataframe tbody tr th:only-of-type {\n",
              "        vertical-align: middle;\n",
              "    }\n",
              "\n",
              "    .dataframe tbody tr th {\n",
              "        vertical-align: top;\n",
              "    }\n",
              "\n",
              "    .dataframe thead th {\n",
              "        text-align: right;\n",
              "    }\n",
              "</style>\n",
              "<table border=\"1\" class=\"dataframe\">\n",
              "  <thead>\n",
              "    <tr style=\"text-align: right;\">\n",
              "      <th></th>\n",
              "      <th>Population 2020</th>\n",
              "      <th>Population 2019</th>\n",
              "      <th>COVID-19 deaths per 100,000 population in 2020</th>\n",
              "      <th>Median age</th>\n",
              "      <th>Island</th>\n",
              "      <th>Index of exposure to COVID-19  infections in other countries as of March 31</th>\n",
              "      <th>Log of average distance to SARS countries</th>\n",
              "      <th>WHO Western Pacific Region</th>\n",
              "      <th>Female head of government</th>\n",
              "      <th>Index of institutional trust</th>\n",
              "      <th>Gini coefficient of income</th>\n",
              "      <th>All-cause death count, 2017</th>\n",
              "      <th>All-cause death count, 2018</th>\n",
              "      <th>All-cause death count, 2019</th>\n",
              "      <th>All-cause death count, 2020</th>\n",
              "      <th>Excess deaths in 2020 per 100,000 population, relative to 2017-2019 average</th>\n",
              "    </tr>\n",
              "  </thead>\n",
              "  <tbody>\n",
              "    <tr>\n",
              "      <th>count</th>\n",
              "      <td>1.640000e+02</td>\n",
              "      <td>1.640000e+02</td>\n",
              "      <td>163.000000</td>\n",
              "      <td>163.000000</td>\n",
              "      <td>166.000000</td>\n",
              "      <td>164.000000</td>\n",
              "      <td>164.000000</td>\n",
              "      <td>166.000000</td>\n",
              "      <td>166.000000</td>\n",
              "      <td>165.000000</td>\n",
              "      <td>164.000000</td>\n",
              "      <td>6.300000e+01</td>\n",
              "      <td>6.400000e+01</td>\n",
              "      <td>6.400000e+01</td>\n",
              "      <td>6.500000e+01</td>\n",
              "      <td>64.000000</td>\n",
              "    </tr>\n",
              "    <tr>\n",
              "      <th>mean</th>\n",
              "      <td>4.718124e+07</td>\n",
              "      <td>4.646257e+07</td>\n",
              "      <td>30.704018</td>\n",
              "      <td>30.667485</td>\n",
              "      <td>0.132530</td>\n",
              "      <td>1.674512</td>\n",
              "      <td>9.055593</td>\n",
              "      <td>0.084337</td>\n",
              "      <td>0.138554</td>\n",
              "      <td>0.316861</td>\n",
              "      <td>37.886479</td>\n",
              "      <td>2.543131e+05</td>\n",
              "      <td>2.543317e+05</td>\n",
              "      <td>2.552972e+05</td>\n",
              "      <td>2.984399e+05</td>\n",
              "      <td>109.163519</td>\n",
              "    </tr>\n",
              "    <tr>\n",
              "      <th>std</th>\n",
              "      <td>1.598697e+08</td>\n",
              "      <td>1.568124e+08</td>\n",
              "      <td>38.194221</td>\n",
              "      <td>9.332182</td>\n",
              "      <td>0.340092</td>\n",
              "      <td>1.300501</td>\n",
              "      <td>0.376316</td>\n",
              "      <td>0.278734</td>\n",
              "      <td>0.346526</td>\n",
              "      <td>0.172980</td>\n",
              "      <td>8.300231</td>\n",
              "      <td>4.835330e+05</td>\n",
              "      <td>4.844878e+05</td>\n",
              "      <td>4.861756e+05</td>\n",
              "      <td>5.654272e+05</td>\n",
              "      <td>82.578199</td>\n",
              "    </tr>\n",
              "    <tr>\n",
              "      <th>min</th>\n",
              "      <td>3.412500e+05</td>\n",
              "      <td>3.613130e+05</td>\n",
              "      <td>0.000000</td>\n",
              "      <td>15.100000</td>\n",
              "      <td>0.000000</td>\n",
              "      <td>0.379029</td>\n",
              "      <td>8.044208</td>\n",
              "      <td>0.000000</td>\n",
              "      <td>0.000000</td>\n",
              "      <td>0.046448</td>\n",
              "      <td>23.200000</td>\n",
              "      <td>2.229000e+03</td>\n",
              "      <td>2.247000e+03</td>\n",
              "      <td>2.200000e+03</td>\n",
              "      <td>2.321000e+03</td>\n",
              "      <td>-26.467947</td>\n",
              "    </tr>\n",
              "    <tr>\n",
              "      <th>25%</th>\n",
              "      <td>4.827881e+06</td>\n",
              "      <td>4.730215e+06</td>\n",
              "      <td>1.680150</td>\n",
              "      <td>21.850000</td>\n",
              "      <td>0.000000</td>\n",
              "      <td>0.819877</td>\n",
              "      <td>8.928284</td>\n",
              "      <td>0.000000</td>\n",
              "      <td>0.000000</td>\n",
              "      <td>0.189153</td>\n",
              "      <td>32.250000</td>\n",
              "      <td>2.884000e+04</td>\n",
              "      <td>3.015150e+04</td>\n",
              "      <td>2.995400e+04</td>\n",
              "      <td>3.317700e+04</td>\n",
              "      <td>34.934444</td>\n",
              "    </tr>\n",
              "    <tr>\n",
              "      <th>50%</th>\n",
              "      <td>1.126017e+07</td>\n",
              "      <td>1.116260e+07</td>\n",
              "      <td>10.125000</td>\n",
              "      <td>29.700001</td>\n",
              "      <td>0.000000</td>\n",
              "      <td>1.076515</td>\n",
              "      <td>9.068031</td>\n",
              "      <td>0.000000</td>\n",
              "      <td>0.000000</td>\n",
              "      <td>0.286512</td>\n",
              "      <td>37.121250</td>\n",
              "      <td>7.004900e+04</td>\n",
              "      <td>6.932850e+04</td>\n",
              "      <td>7.049700e+04</td>\n",
              "      <td>9.155300e+04</td>\n",
              "      <td>104.437958</td>\n",
              "    </tr>\n",
              "    <tr>\n",
              "      <th>75%</th>\n",
              "      <td>3.380537e+07</td>\n",
              "      <td>3.375262e+07</td>\n",
              "      <td>46.802498</td>\n",
              "      <td>39.349998</td>\n",
              "      <td>0.000000</td>\n",
              "      <td>2.231382</td>\n",
              "      <td>9.308629</td>\n",
              "      <td>0.000000</td>\n",
              "      <td>0.000000</td>\n",
              "      <td>0.414875</td>\n",
              "      <td>43.825000</td>\n",
              "      <td>1.696710e+05</td>\n",
              "      <td>1.722710e+05</td>\n",
              "      <td>1.743490e+05</td>\n",
              "      <td>2.145030e+05</td>\n",
              "      <td>170.728413</td>\n",
              "    </tr>\n",
              "    <tr>\n",
              "      <th>max</th>\n",
              "      <td>1.439324e+09</td>\n",
              "      <td>1.397715e+09</td>\n",
              "      <td>168.495697</td>\n",
              "      <td>48.200001</td>\n",
              "      <td>1.000000</td>\n",
              "      <td>6.343308</td>\n",
              "      <td>9.726268</td>\n",
              "      <td>1.000000</td>\n",
              "      <td>1.000000</td>\n",
              "      <td>0.905728</td>\n",
              "      <td>65.426000</td>\n",
              "      <td>2.810927e+06</td>\n",
              "      <td>2.839076e+06</td>\n",
              "      <td>2.852747e+06</td>\n",
              "      <td>3.424996e+06</td>\n",
              "      <td>323.475708</td>\n",
              "    </tr>\n",
              "  </tbody>\n",
              "</table>\n",
              "</div>\n",
              "      <button class=\"colab-df-convert\" onclick=\"convertToInteractive('df-22c86360-b12d-4e25-9222-7483469a10a0')\"\n",
              "              title=\"Convert this dataframe to an interactive table.\"\n",
              "              style=\"display:none;\">\n",
              "        \n",
              "  <svg xmlns=\"http://www.w3.org/2000/svg\" height=\"24px\"viewBox=\"0 0 24 24\"\n",
              "       width=\"24px\">\n",
              "    <path d=\"M0 0h24v24H0V0z\" fill=\"none\"/>\n",
              "    <path d=\"M18.56 5.44l.94 2.06.94-2.06 2.06-.94-2.06-.94-.94-2.06-.94 2.06-2.06.94zm-11 1L8.5 8.5l.94-2.06 2.06-.94-2.06-.94L8.5 2.5l-.94 2.06-2.06.94zm10 10l.94 2.06.94-2.06 2.06-.94-2.06-.94-.94-2.06-.94 2.06-2.06.94z\"/><path d=\"M17.41 7.96l-1.37-1.37c-.4-.4-.92-.59-1.43-.59-.52 0-1.04.2-1.43.59L10.3 9.45l-7.72 7.72c-.78.78-.78 2.05 0 2.83L4 21.41c.39.39.9.59 1.41.59.51 0 1.02-.2 1.41-.59l7.78-7.78 2.81-2.81c.8-.78.8-2.07 0-2.86zM5.41 20L4 18.59l7.72-7.72 1.47 1.35L5.41 20z\"/>\n",
              "  </svg>\n",
              "      </button>\n",
              "      \n",
              "  <style>\n",
              "    .colab-df-container {\n",
              "      display:flex;\n",
              "      flex-wrap:wrap;\n",
              "      gap: 12px;\n",
              "    }\n",
              "\n",
              "    .colab-df-convert {\n",
              "      background-color: #E8F0FE;\n",
              "      border: none;\n",
              "      border-radius: 50%;\n",
              "      cursor: pointer;\n",
              "      display: none;\n",
              "      fill: #1967D2;\n",
              "      height: 32px;\n",
              "      padding: 0 0 0 0;\n",
              "      width: 32px;\n",
              "    }\n",
              "\n",
              "    .colab-df-convert:hover {\n",
              "      background-color: #E2EBFA;\n",
              "      box-shadow: 0px 1px 2px rgba(60, 64, 67, 0.3), 0px 1px 3px 1px rgba(60, 64, 67, 0.15);\n",
              "      fill: #174EA6;\n",
              "    }\n",
              "\n",
              "    [theme=dark] .colab-df-convert {\n",
              "      background-color: #3B4455;\n",
              "      fill: #D2E3FC;\n",
              "    }\n",
              "\n",
              "    [theme=dark] .colab-df-convert:hover {\n",
              "      background-color: #434B5C;\n",
              "      box-shadow: 0px 1px 3px 1px rgba(0, 0, 0, 0.15);\n",
              "      filter: drop-shadow(0px 1px 2px rgba(0, 0, 0, 0.3));\n",
              "      fill: #FFFFFF;\n",
              "    }\n",
              "  </style>\n",
              "\n",
              "      <script>\n",
              "        const buttonEl =\n",
              "          document.querySelector('#df-22c86360-b12d-4e25-9222-7483469a10a0 button.colab-df-convert');\n",
              "        buttonEl.style.display =\n",
              "          google.colab.kernel.accessAllowed ? 'block' : 'none';\n",
              "\n",
              "        async function convertToInteractive(key) {\n",
              "          const element = document.querySelector('#df-22c86360-b12d-4e25-9222-7483469a10a0');\n",
              "          const dataTable =\n",
              "            await google.colab.kernel.invokeFunction('convertToInteractive',\n",
              "                                                     [key], {});\n",
              "          if (!dataTable) return;\n",
              "\n",
              "          const docLinkHtml = 'Like what you see? Visit the ' +\n",
              "            '<a target=\"_blank\" href=https://colab.research.google.com/notebooks/data_table.ipynb>data table notebook</a>'\n",
              "            + ' to learn more about interactive tables.';\n",
              "          element.innerHTML = '';\n",
              "          dataTable['output_type'] = 'display_data';\n",
              "          await google.colab.output.renderOutput(dataTable, element);\n",
              "          const docLink = document.createElement('div');\n",
              "          docLink.innerHTML = docLinkHtml;\n",
              "          element.appendChild(docLink);\n",
              "        }\n",
              "      </script>\n",
              "    </div>\n",
              "  </div>\n",
              "  "
            ]
          },
          "metadata": {},
          "execution_count": 8
        }
      ],
      "source": [
        "data.describe()"
      ]
    },
    {
      "cell_type": "markdown",
      "metadata": {
        "id": "89Ev0sL5fS7L"
      },
      "source": [
        "You can also access values like `mean` or `max` directly with the corrsponding methods. Let's see who is the oldest cheater!"
      ]
    },
    {
      "cell_type": "code",
      "execution_count": 9,
      "metadata": {
        "colab": {
          "base_uri": "https://localhost:8080/"
        },
        "id": "34YlMinWfS7L",
        "outputId": "e50d370b-f06e-48c9-8dce-40052340c33b"
      },
      "outputs": [
        {
          "output_type": "execute_result",
          "data": {
            "text/plain": [
              "30.70401790570125"
            ]
          },
          "metadata": {},
          "execution_count": 9
        }
      ],
      "source": [
        "data['COVID-19 deaths per 100,000 population in 2020'].mean()"
      ]
    },
    {
      "cell_type": "code",
      "source": [
        "data['COVID-19 deaths per 100,000 population in 2020'].max()"
      ],
      "metadata": {
        "colab": {
          "base_uri": "https://localhost:8080/"
        },
        "id": "lk1CepZzg1Qe",
        "outputId": "d26e7322-6cdd-415f-848e-4a66e2849c74"
      },
      "execution_count": 10,
      "outputs": [
        {
          "output_type": "execute_result",
          "data": {
            "text/plain": [
              "168.49569702148438"
            ]
          },
          "metadata": {},
          "execution_count": 10
        }
      ]
    },
    {
      "cell_type": "markdown",
      "metadata": {
        "id": "F4a_l_hdfS7M"
      },
      "source": [
        "This works for the whole dataframe as well. Pandas knows which values are numerical based on the datatype and hides the categorical features for you."
      ]
    },
    {
      "cell_type": "code",
      "execution_count": 11,
      "metadata": {
        "colab": {
          "base_uri": "https://localhost:8080/"
        },
        "id": "XthApuSafS7M",
        "outputId": "19c38657-d780-4a92-dd46-5daff28f917a"
      },
      "outputs": [
        {
          "output_type": "stream",
          "name": "stderr",
          "text": [
            "/usr/local/lib/python3.7/dist-packages/ipykernel_launcher.py:1: FutureWarning: Dropping of nuisance columns in DataFrame reductions (with 'numeric_only=None') is deprecated; in a future version this will raise TypeError.  Select only valid columns before calling the reduction.\n",
            "  \"\"\"Entry point for launching an IPython kernel.\n"
          ]
        },
        {
          "output_type": "execute_result",
          "data": {
            "text/plain": [
              "Population 2020                                                                4.718124e+07\n",
              "Population 2019                                                                4.646257e+07\n",
              "COVID-19 deaths per 100,000 population in 2020                                 3.070402e+01\n",
              "Median age                                                                     3.066748e+01\n",
              "Island                                                                         1.325301e-01\n",
              "Index of exposure to COVID-19  infections in other countries as of March 31    1.674512e+00\n",
              "Log of average distance to SARS countries                                      9.055593e+00\n",
              "WHO Western Pacific Region                                                     8.433735e-02\n",
              "Female head of government                                                      1.385542e-01\n",
              "Index of institutional trust                                                   3.168614e-01\n",
              "Gini coefficient of income                                                     3.788648e+01\n",
              "All-cause death count, 2017                                                    2.543131e+05\n",
              "All-cause death count, 2018                                                    2.543317e+05\n",
              "All-cause death count, 2019                                                    2.552972e+05\n",
              "All-cause death count, 2020                                                    2.984399e+05\n",
              "Excess deaths in 2020 per 100,000 population, relative to 2017-2019 average    1.091635e+02\n",
              "dtype: float64"
            ]
          },
          "metadata": {},
          "execution_count": 11
        }
      ],
      "source": [
        "data.mean()"
      ]
    },
    {
      "cell_type": "markdown",
      "metadata": {
        "id": "c0NrikerfS7M"
      },
      "source": [
        "There is also an easy way to filter your dataset. Let's say we want to have a subset of our data containing only woman. This is also possible with the bracket notation!"
      ]
    },
    {
      "cell_type": "code",
      "source": [
        "data.max()\n"
      ],
      "metadata": {
        "colab": {
          "base_uri": "https://localhost:8080/"
        },
        "id": "upZSCKA7g-Ta",
        "outputId": "ccb948be-595d-4807-9d9d-b06f19bb6ee0"
      },
      "execution_count": 12,
      "outputs": [
        {
          "output_type": "execute_result",
          "data": {
            "text/plain": [
              "Country name                                                                       Zimbabwe\n",
              "Population 2020                                                                1439323774.0\n",
              "Population 2019                                                                1397715000.0\n",
              "COVID-19 deaths per 100,000 population in 2020                                   168.495697\n",
              "Median age                                                                        48.200001\n",
              "Island                                                                                    1\n",
              "Index of exposure to COVID-19  infections in other countries as of March 31        6.343308\n",
              "Log of average distance to SARS countries                                          9.726268\n",
              "WHO Western Pacific Region                                                                1\n",
              "Female head of government                                                                 1\n",
              "Index of institutional trust                                                       0.905728\n",
              "Gini coefficient of income                                                           65.426\n",
              "All-cause death count, 2017                                                       2810927.0\n",
              "All-cause death count, 2018                                                       2839076.0\n",
              "All-cause death count, 2019                                                       2852747.0\n",
              "All-cause death count, 2020                                                       3424996.0\n",
              "Excess deaths in 2020 per 100,000 population, relative to 2017-2019 average      323.475708\n",
              "dtype: object"
            ]
          },
          "metadata": {},
          "execution_count": 12
        }
      ]
    },
    {
      "cell_type": "code",
      "execution_count": 13,
      "metadata": {
        "colab": {
          "base_uri": "https://localhost:8080/",
          "height": 713
        },
        "id": "-zP7i-m3fS7M",
        "outputId": "1df208ec-6d5c-417a-e875-bb917fd0c1b0"
      },
      "outputs": [
        {
          "output_type": "execute_result",
          "data": {
            "text/plain": [
              "          Country name  Population 2020  Population 2019  \\\n",
              "0        United States      331002647.0      328239523.0   \n",
              "1                Egypt      102334403.0      100388073.0   \n",
              "2              Morocco       36910558.0       36471769.0   \n",
              "3              Lebanon        6825442.0        6855713.0   \n",
              "4         Saudi Arabia       34813867.0       34268528.0   \n",
              "..                 ...              ...              ...   \n",
              "161              Yemen       29825968.0       29161922.0   \n",
              "162             Kosovo        1932774.0        1794248.0   \n",
              "163  Somaliland region              NaN              NaN   \n",
              "164       North Cyprus              NaN              NaN   \n",
              "165        South Sudan       11193729.0       11062113.0   \n",
              "\n",
              "     COVID-19 deaths per 100,000 population in 2020  Median age  Island  \\\n",
              "0                                        104.451401   38.299999       0   \n",
              "1                                          7.456900   25.299999       0   \n",
              "2                                         20.016001   29.600000       0   \n",
              "3                                         21.507801   31.100000       0   \n",
              "4                                         17.875101   31.900000       0   \n",
              "..                                              ...         ...     ...   \n",
              "161                                        2.045200   20.299999       0   \n",
              "162                                       68.916496   35.000000       0   \n",
              "163                                             NaN         NaN       0   \n",
              "164                                             NaN         NaN       0   \n",
              "165                                        0.562800   19.200001       0   \n",
              "\n",
              "     Index of exposure to COVID-19  infections in other countries as of March 31  \\\n",
              "0                                             1.687503                             \n",
              "1                                             1.626675                             \n",
              "2                                             2.336053                             \n",
              "3                                             1.891434                             \n",
              "4                                             1.250483                             \n",
              "..                                                 ...                             \n",
              "161                                           1.004569                             \n",
              "162                                           3.134411                             \n",
              "163                                                NaN                             \n",
              "164                                                NaN                             \n",
              "165                                           1.075737                             \n",
              "\n",
              "     Log of average distance to SARS countries  WHO Western Pacific Region  \\\n",
              "0                                     9.314896                           0   \n",
              "1                                     9.006860                           0   \n",
              "2                                     9.226011                           0   \n",
              "3                                     8.956014                           0   \n",
              "4                                     8.896798                           0   \n",
              "..                                         ...                         ...   \n",
              "161                                   8.966310                           0   \n",
              "162                                   9.014949                           0   \n",
              "163                                        NaN                           0   \n",
              "164                                        NaN                           0   \n",
              "165                                   9.066398                           0   \n",
              "\n",
              "     Female head of government  Index of institutional trust  \\\n",
              "0                            0                      0.250043   \n",
              "1                            0                      0.445924   \n",
              "2                            0                      0.397255   \n",
              "3                            0                      0.106633   \n",
              "4                            0                      0.650619   \n",
              "..                         ...                           ...   \n",
              "161                          0                      0.266907   \n",
              "162                          1                      0.169448   \n",
              "163                          0                           NaN   \n",
              "164                          0                      0.305330   \n",
              "165                          0                      0.178639   \n",
              "\n",
              "     Gini coefficient of income  All-cause death count, 2017  \\\n",
              "0                         47.51                    2810927.0   \n",
              "1                         31.56                          NaN   \n",
              "2                         39.55                          NaN   \n",
              "3                         31.83                          NaN   \n",
              "4                         45.90                          NaN   \n",
              "..                          ...                          ...   \n",
              "161                       36.71                          NaN   \n",
              "162                       29.01                       8738.0   \n",
              "163                         NaN                          NaN   \n",
              "164                         NaN                          NaN   \n",
              "165                       46.34                          NaN   \n",
              "\n",
              "     All-cause death count, 2018  All-cause death count, 2019  \\\n",
              "0                      2839076.0                    2852747.0   \n",
              "1                            NaN                          NaN   \n",
              "2                            NaN                          NaN   \n",
              "3                            NaN                          NaN   \n",
              "4                            NaN                          NaN   \n",
              "..                           ...                          ...   \n",
              "161                          NaN                          NaN   \n",
              "162                       8866.0                       9552.0   \n",
              "163                          NaN                          NaN   \n",
              "164                          NaN                          NaN   \n",
              "165                          NaN                          NaN   \n",
              "\n",
              "     All-cause death count, 2020  \\\n",
              "0                      3424996.0   \n",
              "1                            NaN   \n",
              "2                            NaN   \n",
              "3                            NaN   \n",
              "4                            NaN   \n",
              "..                           ...   \n",
              "161                          NaN   \n",
              "162                      11108.0   \n",
              "163                          NaN   \n",
              "164                          NaN   \n",
              "165                          NaN   \n",
              "\n",
              "     Excess deaths in 2020 per 100,000 population, relative to 2017-2019 average  \n",
              "0                                           179.219727                            \n",
              "1                                                  NaN                            \n",
              "2                                                  NaN                            \n",
              "3                                                  NaN                            \n",
              "4                                                  NaN                            \n",
              "..                                                 ...                            \n",
              "161                                                NaN                            \n",
              "162                                         110.329376                            \n",
              "163                                                NaN                            \n",
              "164                                                NaN                            \n",
              "165                                                NaN                            \n",
              "\n",
              "[166 rows x 17 columns]"
            ],
            "text/html": [
              "\n",
              "  <div id=\"df-942c49ff-0a2b-4118-a0af-db5482809f47\">\n",
              "    <div class=\"colab-df-container\">\n",
              "      <div>\n",
              "<style scoped>\n",
              "    .dataframe tbody tr th:only-of-type {\n",
              "        vertical-align: middle;\n",
              "    }\n",
              "\n",
              "    .dataframe tbody tr th {\n",
              "        vertical-align: top;\n",
              "    }\n",
              "\n",
              "    .dataframe thead th {\n",
              "        text-align: right;\n",
              "    }\n",
              "</style>\n",
              "<table border=\"1\" class=\"dataframe\">\n",
              "  <thead>\n",
              "    <tr style=\"text-align: right;\">\n",
              "      <th></th>\n",
              "      <th>Country name</th>\n",
              "      <th>Population 2020</th>\n",
              "      <th>Population 2019</th>\n",
              "      <th>COVID-19 deaths per 100,000 population in 2020</th>\n",
              "      <th>Median age</th>\n",
              "      <th>Island</th>\n",
              "      <th>Index of exposure to COVID-19  infections in other countries as of March 31</th>\n",
              "      <th>Log of average distance to SARS countries</th>\n",
              "      <th>WHO Western Pacific Region</th>\n",
              "      <th>Female head of government</th>\n",
              "      <th>Index of institutional trust</th>\n",
              "      <th>Gini coefficient of income</th>\n",
              "      <th>All-cause death count, 2017</th>\n",
              "      <th>All-cause death count, 2018</th>\n",
              "      <th>All-cause death count, 2019</th>\n",
              "      <th>All-cause death count, 2020</th>\n",
              "      <th>Excess deaths in 2020 per 100,000 population, relative to 2017-2019 average</th>\n",
              "    </tr>\n",
              "  </thead>\n",
              "  <tbody>\n",
              "    <tr>\n",
              "      <th>0</th>\n",
              "      <td>United States</td>\n",
              "      <td>331002647.0</td>\n",
              "      <td>328239523.0</td>\n",
              "      <td>104.451401</td>\n",
              "      <td>38.299999</td>\n",
              "      <td>0</td>\n",
              "      <td>1.687503</td>\n",
              "      <td>9.314896</td>\n",
              "      <td>0</td>\n",
              "      <td>0</td>\n",
              "      <td>0.250043</td>\n",
              "      <td>47.51</td>\n",
              "      <td>2810927.0</td>\n",
              "      <td>2839076.0</td>\n",
              "      <td>2852747.0</td>\n",
              "      <td>3424996.0</td>\n",
              "      <td>179.219727</td>\n",
              "    </tr>\n",
              "    <tr>\n",
              "      <th>1</th>\n",
              "      <td>Egypt</td>\n",
              "      <td>102334403.0</td>\n",
              "      <td>100388073.0</td>\n",
              "      <td>7.456900</td>\n",
              "      <td>25.299999</td>\n",
              "      <td>0</td>\n",
              "      <td>1.626675</td>\n",
              "      <td>9.006860</td>\n",
              "      <td>0</td>\n",
              "      <td>0</td>\n",
              "      <td>0.445924</td>\n",
              "      <td>31.56</td>\n",
              "      <td>NaN</td>\n",
              "      <td>NaN</td>\n",
              "      <td>NaN</td>\n",
              "      <td>NaN</td>\n",
              "      <td>NaN</td>\n",
              "    </tr>\n",
              "    <tr>\n",
              "      <th>2</th>\n",
              "      <td>Morocco</td>\n",
              "      <td>36910558.0</td>\n",
              "      <td>36471769.0</td>\n",
              "      <td>20.016001</td>\n",
              "      <td>29.600000</td>\n",
              "      <td>0</td>\n",
              "      <td>2.336053</td>\n",
              "      <td>9.226011</td>\n",
              "      <td>0</td>\n",
              "      <td>0</td>\n",
              "      <td>0.397255</td>\n",
              "      <td>39.55</td>\n",
              "      <td>NaN</td>\n",
              "      <td>NaN</td>\n",
              "      <td>NaN</td>\n",
              "      <td>NaN</td>\n",
              "      <td>NaN</td>\n",
              "    </tr>\n",
              "    <tr>\n",
              "      <th>3</th>\n",
              "      <td>Lebanon</td>\n",
              "      <td>6825442.0</td>\n",
              "      <td>6855713.0</td>\n",
              "      <td>21.507801</td>\n",
              "      <td>31.100000</td>\n",
              "      <td>0</td>\n",
              "      <td>1.891434</td>\n",
              "      <td>8.956014</td>\n",
              "      <td>0</td>\n",
              "      <td>0</td>\n",
              "      <td>0.106633</td>\n",
              "      <td>31.83</td>\n",
              "      <td>NaN</td>\n",
              "      <td>NaN</td>\n",
              "      <td>NaN</td>\n",
              "      <td>NaN</td>\n",
              "      <td>NaN</td>\n",
              "    </tr>\n",
              "    <tr>\n",
              "      <th>4</th>\n",
              "      <td>Saudi Arabia</td>\n",
              "      <td>34813867.0</td>\n",
              "      <td>34268528.0</td>\n",
              "      <td>17.875101</td>\n",
              "      <td>31.900000</td>\n",
              "      <td>0</td>\n",
              "      <td>1.250483</td>\n",
              "      <td>8.896798</td>\n",
              "      <td>0</td>\n",
              "      <td>0</td>\n",
              "      <td>0.650619</td>\n",
              "      <td>45.90</td>\n",
              "      <td>NaN</td>\n",
              "      <td>NaN</td>\n",
              "      <td>NaN</td>\n",
              "      <td>NaN</td>\n",
              "      <td>NaN</td>\n",
              "    </tr>\n",
              "    <tr>\n",
              "      <th>...</th>\n",
              "      <td>...</td>\n",
              "      <td>...</td>\n",
              "      <td>...</td>\n",
              "      <td>...</td>\n",
              "      <td>...</td>\n",
              "      <td>...</td>\n",
              "      <td>...</td>\n",
              "      <td>...</td>\n",
              "      <td>...</td>\n",
              "      <td>...</td>\n",
              "      <td>...</td>\n",
              "      <td>...</td>\n",
              "      <td>...</td>\n",
              "      <td>...</td>\n",
              "      <td>...</td>\n",
              "      <td>...</td>\n",
              "      <td>...</td>\n",
              "    </tr>\n",
              "    <tr>\n",
              "      <th>161</th>\n",
              "      <td>Yemen</td>\n",
              "      <td>29825968.0</td>\n",
              "      <td>29161922.0</td>\n",
              "      <td>2.045200</td>\n",
              "      <td>20.299999</td>\n",
              "      <td>0</td>\n",
              "      <td>1.004569</td>\n",
              "      <td>8.966310</td>\n",
              "      <td>0</td>\n",
              "      <td>0</td>\n",
              "      <td>0.266907</td>\n",
              "      <td>36.71</td>\n",
              "      <td>NaN</td>\n",
              "      <td>NaN</td>\n",
              "      <td>NaN</td>\n",
              "      <td>NaN</td>\n",
              "      <td>NaN</td>\n",
              "    </tr>\n",
              "    <tr>\n",
              "      <th>162</th>\n",
              "      <td>Kosovo</td>\n",
              "      <td>1932774.0</td>\n",
              "      <td>1794248.0</td>\n",
              "      <td>68.916496</td>\n",
              "      <td>35.000000</td>\n",
              "      <td>0</td>\n",
              "      <td>3.134411</td>\n",
              "      <td>9.014949</td>\n",
              "      <td>0</td>\n",
              "      <td>1</td>\n",
              "      <td>0.169448</td>\n",
              "      <td>29.01</td>\n",
              "      <td>8738.0</td>\n",
              "      <td>8866.0</td>\n",
              "      <td>9552.0</td>\n",
              "      <td>11108.0</td>\n",
              "      <td>110.329376</td>\n",
              "    </tr>\n",
              "    <tr>\n",
              "      <th>163</th>\n",
              "      <td>Somaliland region</td>\n",
              "      <td>NaN</td>\n",
              "      <td>NaN</td>\n",
              "      <td>NaN</td>\n",
              "      <td>NaN</td>\n",
              "      <td>0</td>\n",
              "      <td>NaN</td>\n",
              "      <td>NaN</td>\n",
              "      <td>0</td>\n",
              "      <td>0</td>\n",
              "      <td>NaN</td>\n",
              "      <td>NaN</td>\n",
              "      <td>NaN</td>\n",
              "      <td>NaN</td>\n",
              "      <td>NaN</td>\n",
              "      <td>NaN</td>\n",
              "      <td>NaN</td>\n",
              "    </tr>\n",
              "    <tr>\n",
              "      <th>164</th>\n",
              "      <td>North Cyprus</td>\n",
              "      <td>NaN</td>\n",
              "      <td>NaN</td>\n",
              "      <td>NaN</td>\n",
              "      <td>NaN</td>\n",
              "      <td>0</td>\n",
              "      <td>NaN</td>\n",
              "      <td>NaN</td>\n",
              "      <td>0</td>\n",
              "      <td>0</td>\n",
              "      <td>0.305330</td>\n",
              "      <td>NaN</td>\n",
              "      <td>NaN</td>\n",
              "      <td>NaN</td>\n",
              "      <td>NaN</td>\n",
              "      <td>NaN</td>\n",
              "      <td>NaN</td>\n",
              "    </tr>\n",
              "    <tr>\n",
              "      <th>165</th>\n",
              "      <td>South Sudan</td>\n",
              "      <td>11193729.0</td>\n",
              "      <td>11062113.0</td>\n",
              "      <td>0.562800</td>\n",
              "      <td>19.200001</td>\n",
              "      <td>0</td>\n",
              "      <td>1.075737</td>\n",
              "      <td>9.066398</td>\n",
              "      <td>0</td>\n",
              "      <td>0</td>\n",
              "      <td>0.178639</td>\n",
              "      <td>46.34</td>\n",
              "      <td>NaN</td>\n",
              "      <td>NaN</td>\n",
              "      <td>NaN</td>\n",
              "      <td>NaN</td>\n",
              "      <td>NaN</td>\n",
              "    </tr>\n",
              "  </tbody>\n",
              "</table>\n",
              "<p>166 rows × 17 columns</p>\n",
              "</div>\n",
              "      <button class=\"colab-df-convert\" onclick=\"convertToInteractive('df-942c49ff-0a2b-4118-a0af-db5482809f47')\"\n",
              "              title=\"Convert this dataframe to an interactive table.\"\n",
              "              style=\"display:none;\">\n",
              "        \n",
              "  <svg xmlns=\"http://www.w3.org/2000/svg\" height=\"24px\"viewBox=\"0 0 24 24\"\n",
              "       width=\"24px\">\n",
              "    <path d=\"M0 0h24v24H0V0z\" fill=\"none\"/>\n",
              "    <path d=\"M18.56 5.44l.94 2.06.94-2.06 2.06-.94-2.06-.94-.94-2.06-.94 2.06-2.06.94zm-11 1L8.5 8.5l.94-2.06 2.06-.94-2.06-.94L8.5 2.5l-.94 2.06-2.06.94zm10 10l.94 2.06.94-2.06 2.06-.94-2.06-.94-.94-2.06-.94 2.06-2.06.94z\"/><path d=\"M17.41 7.96l-1.37-1.37c-.4-.4-.92-.59-1.43-.59-.52 0-1.04.2-1.43.59L10.3 9.45l-7.72 7.72c-.78.78-.78 2.05 0 2.83L4 21.41c.39.39.9.59 1.41.59.51 0 1.02-.2 1.41-.59l7.78-7.78 2.81-2.81c.8-.78.8-2.07 0-2.86zM5.41 20L4 18.59l7.72-7.72 1.47 1.35L5.41 20z\"/>\n",
              "  </svg>\n",
              "      </button>\n",
              "      \n",
              "  <style>\n",
              "    .colab-df-container {\n",
              "      display:flex;\n",
              "      flex-wrap:wrap;\n",
              "      gap: 12px;\n",
              "    }\n",
              "\n",
              "    .colab-df-convert {\n",
              "      background-color: #E8F0FE;\n",
              "      border: none;\n",
              "      border-radius: 50%;\n",
              "      cursor: pointer;\n",
              "      display: none;\n",
              "      fill: #1967D2;\n",
              "      height: 32px;\n",
              "      padding: 0 0 0 0;\n",
              "      width: 32px;\n",
              "    }\n",
              "\n",
              "    .colab-df-convert:hover {\n",
              "      background-color: #E2EBFA;\n",
              "      box-shadow: 0px 1px 2px rgba(60, 64, 67, 0.3), 0px 1px 3px 1px rgba(60, 64, 67, 0.15);\n",
              "      fill: #174EA6;\n",
              "    }\n",
              "\n",
              "    [theme=dark] .colab-df-convert {\n",
              "      background-color: #3B4455;\n",
              "      fill: #D2E3FC;\n",
              "    }\n",
              "\n",
              "    [theme=dark] .colab-df-convert:hover {\n",
              "      background-color: #434B5C;\n",
              "      box-shadow: 0px 1px 3px 1px rgba(0, 0, 0, 0.15);\n",
              "      filter: drop-shadow(0px 1px 2px rgba(0, 0, 0, 0.3));\n",
              "      fill: #FFFFFF;\n",
              "    }\n",
              "  </style>\n",
              "\n",
              "      <script>\n",
              "        const buttonEl =\n",
              "          document.querySelector('#df-942c49ff-0a2b-4118-a0af-db5482809f47 button.colab-df-convert');\n",
              "        buttonEl.style.display =\n",
              "          google.colab.kernel.accessAllowed ? 'block' : 'none';\n",
              "\n",
              "        async function convertToInteractive(key) {\n",
              "          const element = document.querySelector('#df-942c49ff-0a2b-4118-a0af-db5482809f47');\n",
              "          const dataTable =\n",
              "            await google.colab.kernel.invokeFunction('convertToInteractive',\n",
              "                                                     [key], {});\n",
              "          if (!dataTable) return;\n",
              "\n",
              "          const docLinkHtml = 'Like what you see? Visit the ' +\n",
              "            '<a target=\"_blank\" href=https://colab.research.google.com/notebooks/data_table.ipynb>data table notebook</a>'\n",
              "            + ' to learn more about interactive tables.';\n",
              "          element.innerHTML = '';\n",
              "          dataTable['output_type'] = 'display_data';\n",
              "          await google.colab.output.renderOutput(dataTable, element);\n",
              "          const docLink = document.createElement('div');\n",
              "          docLink.innerHTML = docLinkHtml;\n",
              "          element.appendChild(docLink);\n",
              "        }\n",
              "      </script>\n",
              "    </div>\n",
              "  </div>\n",
              "  "
            ]
          },
          "metadata": {},
          "execution_count": 13
        }
      ],
      "source": [
        "df = data[:]\n",
        "df"
      ]
    },
    {
      "cell_type": "markdown",
      "metadata": {
        "id": "OZl8YkQpfS7M"
      },
      "source": [
        "Deleting columns which contain lots of missing values.\n"
      ]
    },
    {
      "cell_type": "code",
      "execution_count": 14,
      "metadata": {
        "colab": {
          "base_uri": "https://localhost:8080/"
        },
        "id": "WVUfBvG5fS7N",
        "outputId": "7af819e6-2b16-436e-d40e-e05bb6931357"
      },
      "outputs": [
        {
          "output_type": "execute_result",
          "data": {
            "text/plain": [
              "Country name                                                                     0\n",
              "Population 2020                                                                  2\n",
              "Population 2019                                                                  2\n",
              "COVID-19 deaths per 100,000 population in 2020                                   3\n",
              "Median age                                                                       3\n",
              "Island                                                                           0\n",
              "Index of exposure to COVID-19  infections in other countries as of March 31      2\n",
              "Log of average distance to SARS countries                                        2\n",
              "WHO Western Pacific Region                                                       0\n",
              "Female head of government                                                        0\n",
              "Index of institutional trust                                                     1\n",
              "Gini coefficient of income                                                       2\n",
              "All-cause death count, 2017                                                    103\n",
              "All-cause death count, 2018                                                    102\n",
              "All-cause death count, 2019                                                    102\n",
              "All-cause death count, 2020                                                    101\n",
              "Excess deaths in 2020 per 100,000 population, relative to 2017-2019 average    102\n",
              "dtype: int64"
            ]
          },
          "metadata": {},
          "execution_count": 14
        }
      ],
      "source": [
        "df.isnull().sum()"
      ]
    },
    {
      "cell_type": "code",
      "source": [
        "df = df.drop(df.loc[:, 'All-cause death count, 2017':'Excess deaths in 2020 per 100,000 population, relative to 2017-2019 average'].columns, axis=1)"
      ],
      "metadata": {
        "id": "ZiUcGRyuh5C7"
      },
      "execution_count": 15,
      "outputs": []
    },
    {
      "cell_type": "code",
      "source": [
        "df.isnull().sum()"
      ],
      "metadata": {
        "colab": {
          "base_uri": "https://localhost:8080/"
        },
        "id": "lhfppAKsibAT",
        "outputId": "7a307518-d43c-46f5-8964-bc6e3ae6a8f8"
      },
      "execution_count": 16,
      "outputs": [
        {
          "output_type": "execute_result",
          "data": {
            "text/plain": [
              "Country name                                                                   0\n",
              "Population 2020                                                                2\n",
              "Population 2019                                                                2\n",
              "COVID-19 deaths per 100,000 population in 2020                                 3\n",
              "Median age                                                                     3\n",
              "Island                                                                         0\n",
              "Index of exposure to COVID-19  infections in other countries as of March 31    2\n",
              "Log of average distance to SARS countries                                      2\n",
              "WHO Western Pacific Region                                                     0\n",
              "Female head of government                                                      0\n",
              "Index of institutional trust                                                   1\n",
              "Gini coefficient of income                                                     2\n",
              "dtype: int64"
            ]
          },
          "metadata": {},
          "execution_count": 16
        }
      ]
    },
    {
      "cell_type": "markdown",
      "metadata": {
        "id": "pVheEnitfS7N"
      },
      "source": [
        "We can also create new rows. Specify the new column name in brackets and provide a function to set the data. We will create a new column containing True or False, wheather or not the person is below 30."
      ]
    },
    {
      "cell_type": "code",
      "source": [
        "df = df.dropna()"
      ],
      "metadata": {
        "id": "beis1tXyigZd"
      },
      "execution_count": 17,
      "outputs": []
    },
    {
      "cell_type": "code",
      "execution_count": 18,
      "metadata": {
        "collapsed": true,
        "colab": {
          "base_uri": "https://localhost:8080/"
        },
        "id": "qeaM5rt7fS7N",
        "outputId": "662c7861-3918-4c44-bc8c-4c3a859e9dce"
      },
      "outputs": [
        {
          "output_type": "execute_result",
          "data": {
            "text/plain": [
              "Country name                                                                   0\n",
              "Population 2020                                                                0\n",
              "Population 2019                                                                0\n",
              "COVID-19 deaths per 100,000 population in 2020                                 0\n",
              "Median age                                                                     0\n",
              "Island                                                                         0\n",
              "Index of exposure to COVID-19  infections in other countries as of March 31    0\n",
              "Log of average distance to SARS countries                                      0\n",
              "WHO Western Pacific Region                                                     0\n",
              "Female head of government                                                      0\n",
              "Index of institutional trust                                                   0\n",
              "Gini coefficient of income                                                     0\n",
              "dtype: int64"
            ]
          },
          "metadata": {},
          "execution_count": 18
        }
      ],
      "source": [
        "df.isnull().sum()"
      ]
    },
    {
      "cell_type": "code",
      "execution_count": null,
      "metadata": {
        "id": "dUCKmbR7fS7N"
      },
      "outputs": [],
      "source": []
    },
    {
      "cell_type": "markdown",
      "source": [
        "Since we can see here there is no null values our data is ready with no null values."
      ],
      "metadata": {
        "id": "WM7fs5LBisOI"
      }
    },
    {
      "cell_type": "code",
      "execution_count": 19,
      "metadata": {
        "colab": {
          "base_uri": "https://localhost:8080/",
          "height": 658
        },
        "id": "djZYshPTfS7O",
        "outputId": "e1cb967b-b818-4366-c787-35b9acd6eb33"
      },
      "outputs": [
        {
          "output_type": "execute_result",
          "data": {
            "text/plain": [
              "      Country name  Population 2020  Population 2019  \\\n",
              "0    United States      331002647.0      328239523.0   \n",
              "1            Egypt      102334403.0      100388073.0   \n",
              "2          Morocco       36910558.0       36471769.0   \n",
              "3          Lebanon        6825442.0        6855713.0   \n",
              "4     Saudi Arabia       34813867.0       34268528.0   \n",
              "..             ...              ...              ...   \n",
              "159        Uruguay        3473727.0        3461734.0   \n",
              "160     Uzbekistan       33469199.0       33580650.0   \n",
              "161          Yemen       29825968.0       29161922.0   \n",
              "162         Kosovo        1932774.0        1794248.0   \n",
              "165    South Sudan       11193729.0       11062113.0   \n",
              "\n",
              "     COVID-19 deaths per 100,000 population in 2020  Median age  Island  \\\n",
              "0                                        104.451401   38.299999       0   \n",
              "1                                          7.456900   25.299999       0   \n",
              "2                                         20.016001   29.600000       0   \n",
              "3                                         21.507801   31.100000       0   \n",
              "4                                         17.875101   31.900000       0   \n",
              "..                                              ...         ...     ...   \n",
              "159                                        5.210500   35.599998       0   \n",
              "160                                        1.834500   28.200001       0   \n",
              "161                                        2.045200   20.299999       0   \n",
              "162                                       68.916496   35.000000       0   \n",
              "165                                        0.562800   19.200001       0   \n",
              "\n",
              "     Index of exposure to COVID-19  infections in other countries as of March 31  \\\n",
              "0                                             1.687503                             \n",
              "1                                             1.626675                             \n",
              "2                                             2.336053                             \n",
              "3                                             1.891434                             \n",
              "4                                             1.250483                             \n",
              "..                                                 ...                             \n",
              "159                                           0.572469                             \n",
              "160                                           1.140722                             \n",
              "161                                           1.004569                             \n",
              "162                                           3.134411                             \n",
              "165                                           1.075737                             \n",
              "\n",
              "     Log of average distance to SARS countries  WHO Western Pacific Region  \\\n",
              "0                                     9.314896                           0   \n",
              "1                                     9.006860                           0   \n",
              "2                                     9.226011                           0   \n",
              "3                                     8.956014                           0   \n",
              "4                                     8.896798                           0   \n",
              "..                                         ...                         ...   \n",
              "159                                   9.711483                           0   \n",
              "160                                   8.620495                           0   \n",
              "161                                   8.966310                           0   \n",
              "162                                   9.014949                           0   \n",
              "165                                   9.066398                           0   \n",
              "\n",
              "     Female head of government  Index of institutional trust  \\\n",
              "0                            0                      0.250043   \n",
              "1                            0                      0.445924   \n",
              "2                            0                      0.397255   \n",
              "3                            0                      0.106633   \n",
              "4                            0                      0.650619   \n",
              "..                         ...                           ...   \n",
              "159                          0                      0.247441   \n",
              "160                          0                      0.434861   \n",
              "161                          0                      0.266907   \n",
              "162                          1                      0.169448   \n",
              "165                          0                      0.178639   \n",
              "\n",
              "     Gini coefficient of income  \n",
              "0                         47.51  \n",
              "1                         31.56  \n",
              "2                         39.55  \n",
              "3                         31.83  \n",
              "4                         45.90  \n",
              "..                          ...  \n",
              "159                       39.25  \n",
              "160                       39.70  \n",
              "161                       36.71  \n",
              "162                       29.01  \n",
              "165                       46.34  \n",
              "\n",
              "[163 rows x 12 columns]"
            ],
            "text/html": [
              "\n",
              "  <div id=\"df-1dee8df8-8f9b-420d-aede-ca4e55246655\">\n",
              "    <div class=\"colab-df-container\">\n",
              "      <div>\n",
              "<style scoped>\n",
              "    .dataframe tbody tr th:only-of-type {\n",
              "        vertical-align: middle;\n",
              "    }\n",
              "\n",
              "    .dataframe tbody tr th {\n",
              "        vertical-align: top;\n",
              "    }\n",
              "\n",
              "    .dataframe thead th {\n",
              "        text-align: right;\n",
              "    }\n",
              "</style>\n",
              "<table border=\"1\" class=\"dataframe\">\n",
              "  <thead>\n",
              "    <tr style=\"text-align: right;\">\n",
              "      <th></th>\n",
              "      <th>Country name</th>\n",
              "      <th>Population 2020</th>\n",
              "      <th>Population 2019</th>\n",
              "      <th>COVID-19 deaths per 100,000 population in 2020</th>\n",
              "      <th>Median age</th>\n",
              "      <th>Island</th>\n",
              "      <th>Index of exposure to COVID-19  infections in other countries as of March 31</th>\n",
              "      <th>Log of average distance to SARS countries</th>\n",
              "      <th>WHO Western Pacific Region</th>\n",
              "      <th>Female head of government</th>\n",
              "      <th>Index of institutional trust</th>\n",
              "      <th>Gini coefficient of income</th>\n",
              "    </tr>\n",
              "  </thead>\n",
              "  <tbody>\n",
              "    <tr>\n",
              "      <th>0</th>\n",
              "      <td>United States</td>\n",
              "      <td>331002647.0</td>\n",
              "      <td>328239523.0</td>\n",
              "      <td>104.451401</td>\n",
              "      <td>38.299999</td>\n",
              "      <td>0</td>\n",
              "      <td>1.687503</td>\n",
              "      <td>9.314896</td>\n",
              "      <td>0</td>\n",
              "      <td>0</td>\n",
              "      <td>0.250043</td>\n",
              "      <td>47.51</td>\n",
              "    </tr>\n",
              "    <tr>\n",
              "      <th>1</th>\n",
              "      <td>Egypt</td>\n",
              "      <td>102334403.0</td>\n",
              "      <td>100388073.0</td>\n",
              "      <td>7.456900</td>\n",
              "      <td>25.299999</td>\n",
              "      <td>0</td>\n",
              "      <td>1.626675</td>\n",
              "      <td>9.006860</td>\n",
              "      <td>0</td>\n",
              "      <td>0</td>\n",
              "      <td>0.445924</td>\n",
              "      <td>31.56</td>\n",
              "    </tr>\n",
              "    <tr>\n",
              "      <th>2</th>\n",
              "      <td>Morocco</td>\n",
              "      <td>36910558.0</td>\n",
              "      <td>36471769.0</td>\n",
              "      <td>20.016001</td>\n",
              "      <td>29.600000</td>\n",
              "      <td>0</td>\n",
              "      <td>2.336053</td>\n",
              "      <td>9.226011</td>\n",
              "      <td>0</td>\n",
              "      <td>0</td>\n",
              "      <td>0.397255</td>\n",
              "      <td>39.55</td>\n",
              "    </tr>\n",
              "    <tr>\n",
              "      <th>3</th>\n",
              "      <td>Lebanon</td>\n",
              "      <td>6825442.0</td>\n",
              "      <td>6855713.0</td>\n",
              "      <td>21.507801</td>\n",
              "      <td>31.100000</td>\n",
              "      <td>0</td>\n",
              "      <td>1.891434</td>\n",
              "      <td>8.956014</td>\n",
              "      <td>0</td>\n",
              "      <td>0</td>\n",
              "      <td>0.106633</td>\n",
              "      <td>31.83</td>\n",
              "    </tr>\n",
              "    <tr>\n",
              "      <th>4</th>\n",
              "      <td>Saudi Arabia</td>\n",
              "      <td>34813867.0</td>\n",
              "      <td>34268528.0</td>\n",
              "      <td>17.875101</td>\n",
              "      <td>31.900000</td>\n",
              "      <td>0</td>\n",
              "      <td>1.250483</td>\n",
              "      <td>8.896798</td>\n",
              "      <td>0</td>\n",
              "      <td>0</td>\n",
              "      <td>0.650619</td>\n",
              "      <td>45.90</td>\n",
              "    </tr>\n",
              "    <tr>\n",
              "      <th>...</th>\n",
              "      <td>...</td>\n",
              "      <td>...</td>\n",
              "      <td>...</td>\n",
              "      <td>...</td>\n",
              "      <td>...</td>\n",
              "      <td>...</td>\n",
              "      <td>...</td>\n",
              "      <td>...</td>\n",
              "      <td>...</td>\n",
              "      <td>...</td>\n",
              "      <td>...</td>\n",
              "      <td>...</td>\n",
              "    </tr>\n",
              "    <tr>\n",
              "      <th>159</th>\n",
              "      <td>Uruguay</td>\n",
              "      <td>3473727.0</td>\n",
              "      <td>3461734.0</td>\n",
              "      <td>5.210500</td>\n",
              "      <td>35.599998</td>\n",
              "      <td>0</td>\n",
              "      <td>0.572469</td>\n",
              "      <td>9.711483</td>\n",
              "      <td>0</td>\n",
              "      <td>0</td>\n",
              "      <td>0.247441</td>\n",
              "      <td>39.25</td>\n",
              "    </tr>\n",
              "    <tr>\n",
              "      <th>160</th>\n",
              "      <td>Uzbekistan</td>\n",
              "      <td>33469199.0</td>\n",
              "      <td>33580650.0</td>\n",
              "      <td>1.834500</td>\n",
              "      <td>28.200001</td>\n",
              "      <td>0</td>\n",
              "      <td>1.140722</td>\n",
              "      <td>8.620495</td>\n",
              "      <td>0</td>\n",
              "      <td>0</td>\n",
              "      <td>0.434861</td>\n",
              "      <td>39.70</td>\n",
              "    </tr>\n",
              "    <tr>\n",
              "      <th>161</th>\n",
              "      <td>Yemen</td>\n",
              "      <td>29825968.0</td>\n",
              "      <td>29161922.0</td>\n",
              "      <td>2.045200</td>\n",
              "      <td>20.299999</td>\n",
              "      <td>0</td>\n",
              "      <td>1.004569</td>\n",
              "      <td>8.966310</td>\n",
              "      <td>0</td>\n",
              "      <td>0</td>\n",
              "      <td>0.266907</td>\n",
              "      <td>36.71</td>\n",
              "    </tr>\n",
              "    <tr>\n",
              "      <th>162</th>\n",
              "      <td>Kosovo</td>\n",
              "      <td>1932774.0</td>\n",
              "      <td>1794248.0</td>\n",
              "      <td>68.916496</td>\n",
              "      <td>35.000000</td>\n",
              "      <td>0</td>\n",
              "      <td>3.134411</td>\n",
              "      <td>9.014949</td>\n",
              "      <td>0</td>\n",
              "      <td>1</td>\n",
              "      <td>0.169448</td>\n",
              "      <td>29.01</td>\n",
              "    </tr>\n",
              "    <tr>\n",
              "      <th>165</th>\n",
              "      <td>South Sudan</td>\n",
              "      <td>11193729.0</td>\n",
              "      <td>11062113.0</td>\n",
              "      <td>0.562800</td>\n",
              "      <td>19.200001</td>\n",
              "      <td>0</td>\n",
              "      <td>1.075737</td>\n",
              "      <td>9.066398</td>\n",
              "      <td>0</td>\n",
              "      <td>0</td>\n",
              "      <td>0.178639</td>\n",
              "      <td>46.34</td>\n",
              "    </tr>\n",
              "  </tbody>\n",
              "</table>\n",
              "<p>163 rows × 12 columns</p>\n",
              "</div>\n",
              "      <button class=\"colab-df-convert\" onclick=\"convertToInteractive('df-1dee8df8-8f9b-420d-aede-ca4e55246655')\"\n",
              "              title=\"Convert this dataframe to an interactive table.\"\n",
              "              style=\"display:none;\">\n",
              "        \n",
              "  <svg xmlns=\"http://www.w3.org/2000/svg\" height=\"24px\"viewBox=\"0 0 24 24\"\n",
              "       width=\"24px\">\n",
              "    <path d=\"M0 0h24v24H0V0z\" fill=\"none\"/>\n",
              "    <path d=\"M18.56 5.44l.94 2.06.94-2.06 2.06-.94-2.06-.94-.94-2.06-.94 2.06-2.06.94zm-11 1L8.5 8.5l.94-2.06 2.06-.94-2.06-.94L8.5 2.5l-.94 2.06-2.06.94zm10 10l.94 2.06.94-2.06 2.06-.94-2.06-.94-.94-2.06-.94 2.06-2.06.94z\"/><path d=\"M17.41 7.96l-1.37-1.37c-.4-.4-.92-.59-1.43-.59-.52 0-1.04.2-1.43.59L10.3 9.45l-7.72 7.72c-.78.78-.78 2.05 0 2.83L4 21.41c.39.39.9.59 1.41.59.51 0 1.02-.2 1.41-.59l7.78-7.78 2.81-2.81c.8-.78.8-2.07 0-2.86zM5.41 20L4 18.59l7.72-7.72 1.47 1.35L5.41 20z\"/>\n",
              "  </svg>\n",
              "      </button>\n",
              "      \n",
              "  <style>\n",
              "    .colab-df-container {\n",
              "      display:flex;\n",
              "      flex-wrap:wrap;\n",
              "      gap: 12px;\n",
              "    }\n",
              "\n",
              "    .colab-df-convert {\n",
              "      background-color: #E8F0FE;\n",
              "      border: none;\n",
              "      border-radius: 50%;\n",
              "      cursor: pointer;\n",
              "      display: none;\n",
              "      fill: #1967D2;\n",
              "      height: 32px;\n",
              "      padding: 0 0 0 0;\n",
              "      width: 32px;\n",
              "    }\n",
              "\n",
              "    .colab-df-convert:hover {\n",
              "      background-color: #E2EBFA;\n",
              "      box-shadow: 0px 1px 2px rgba(60, 64, 67, 0.3), 0px 1px 3px 1px rgba(60, 64, 67, 0.15);\n",
              "      fill: #174EA6;\n",
              "    }\n",
              "\n",
              "    [theme=dark] .colab-df-convert {\n",
              "      background-color: #3B4455;\n",
              "      fill: #D2E3FC;\n",
              "    }\n",
              "\n",
              "    [theme=dark] .colab-df-convert:hover {\n",
              "      background-color: #434B5C;\n",
              "      box-shadow: 0px 1px 3px 1px rgba(0, 0, 0, 0.15);\n",
              "      filter: drop-shadow(0px 1px 2px rgba(0, 0, 0, 0.3));\n",
              "      fill: #FFFFFF;\n",
              "    }\n",
              "  </style>\n",
              "\n",
              "      <script>\n",
              "        const buttonEl =\n",
              "          document.querySelector('#df-1dee8df8-8f9b-420d-aede-ca4e55246655 button.colab-df-convert');\n",
              "        buttonEl.style.display =\n",
              "          google.colab.kernel.accessAllowed ? 'block' : 'none';\n",
              "\n",
              "        async function convertToInteractive(key) {\n",
              "          const element = document.querySelector('#df-1dee8df8-8f9b-420d-aede-ca4e55246655');\n",
              "          const dataTable =\n",
              "            await google.colab.kernel.invokeFunction('convertToInteractive',\n",
              "                                                     [key], {});\n",
              "          if (!dataTable) return;\n",
              "\n",
              "          const docLinkHtml = 'Like what you see? Visit the ' +\n",
              "            '<a target=\"_blank\" href=https://colab.research.google.com/notebooks/data_table.ipynb>data table notebook</a>'\n",
              "            + ' to learn more about interactive tables.';\n",
              "          element.innerHTML = '';\n",
              "          dataTable['output_type'] = 'display_data';\n",
              "          await google.colab.output.renderOutput(dataTable, element);\n",
              "          const docLink = document.createElement('div');\n",
              "          docLink.innerHTML = docLinkHtml;\n",
              "          element.appendChild(docLink);\n",
              "        }\n",
              "      </script>\n",
              "    </div>\n",
              "  </div>\n",
              "  "
            ]
          },
          "metadata": {},
          "execution_count": 19
        }
      ],
      "source": [
        "pd.DataFrame(df)"
      ]
    },
    {
      "cell_type": "markdown",
      "metadata": {
        "id": "I_Q5wYlXfS7O"
      },
      "source": [
        "We can use this to normalize our columns with better values. Take for example `religious`. The number have the following meaning: 1 = not, 2 = mildly, 3 = fairly, 4 = strongly. We can easily replace them inline with the following code."
      ]
    },
    {
      "cell_type": "markdown",
      "source": [
        "Since there is no categorical value we need not to normalize the data.\n"
      ],
      "metadata": {
        "id": "QqB_31vOjJjB"
      }
    },
    {
      "cell_type": "code",
      "execution_count": null,
      "metadata": {
        "collapsed": true,
        "id": "O_XHfbQlfS7O"
      },
      "outputs": [],
      "source": []
    },
    {
      "cell_type": "code",
      "source": [],
      "metadata": {
        "id": "ZfyemyrAjSIN"
      },
      "execution_count": null,
      "outputs": []
    },
    {
      "cell_type": "code",
      "execution_count": null,
      "metadata": {
        "collapsed": true,
        "id": "A0Cr9FMhfS7O"
      },
      "outputs": [],
      "source": []
    },
    {
      "cell_type": "code",
      "execution_count": null,
      "metadata": {
        "id": "hsG223zFfS7O"
      },
      "outputs": [],
      "source": []
    },
    {
      "cell_type": "code",
      "execution_count": null,
      "metadata": {
        "collapsed": true,
        "id": "DCqrXgT0fS7P"
      },
      "outputs": [],
      "source": []
    },
    {
      "cell_type": "markdown",
      "metadata": {
        "id": "sq8R6JxHfS7P"
      },
      "source": [
        "This should be enought about Pandas. Let's get some visualisations!"
      ]
    },
    {
      "cell_type": "markdown",
      "metadata": {
        "id": "6k7DmFvIfS7P"
      },
      "source": [
        "## Visualize Data"
      ]
    },
    {
      "cell_type": "markdown",
      "metadata": {
        "id": "vVcFJ0FDfS7P"
      },
      "source": [
        "To visualize our data, we will use [Seaborn](https://seaborn.pydata.org), a Python visualization library based on matplotlib. It provides a high-level interface for drawing attractive statistical graphics. Let's import it."
      ]
    },
    {
      "cell_type": "code",
      "execution_count": 20,
      "metadata": {
        "collapsed": true,
        "id": "X0lZDoCFfS7Q"
      },
      "outputs": [],
      "source": [
        "import seaborn as sns"
      ]
    },
    {
      "cell_type": "markdown",
      "metadata": {
        "id": "jkT-Zqp_fS7Q"
      },
      "source": [
        "To see our charts directly in our notebook, we have to execute the following:"
      ]
    },
    {
      "cell_type": "code",
      "execution_count": 21,
      "metadata": {
        "collapsed": true,
        "id": "kCWIrdmYfS7Q"
      },
      "outputs": [],
      "source": [
        "%matplotlib inline\n",
        "sns.set()\n",
        "sns.set_context('talk')"
      ]
    },
    {
      "cell_type": "markdown",
      "metadata": {
        "id": "0jEl4ZrefS7Q"
      },
      "source": [
        "Seaborn together with Pandas makes it pretty easy to create charts to analyze our data. We can pass our Dataframes and Series directly into Seaborn methods. We will see how in the following sections."
      ]
    },
    {
      "cell_type": "markdown",
      "metadata": {
        "id": "P5aoZnMwfS7Q"
      },
      "source": [
        "### Univariate Plotting"
      ]
    },
    {
      "cell_type": "markdown",
      "metadata": {
        "id": "mPpUintQfS7R"
      },
      "source": [
        "Let's start by visualizing the distribution of the age our our people. We can achieve this with a simple method called `distplot` by passing our series of ages as argument."
      ]
    },
    {
      "cell_type": "markdown",
      "source": [
        "Here we are creating a graph to represent mortality death with gini values of average income."
      ],
      "metadata": {
        "id": "M4Lx3ZwTkEKH"
      }
    },
    {
      "cell_type": "code",
      "execution_count": 25,
      "metadata": {
        "colab": {
          "base_uri": "https://localhost:8080/",
          "height": 318
        },
        "id": "oM6tMwEsfS7R",
        "outputId": "3d11a933-7551-4416-f6ca-1291699dffed"
      },
      "outputs": [
        {
          "output_type": "execute_result",
          "data": {
            "text/plain": [
              "<matplotlib.axes._subplots.AxesSubplot at 0x7fc3fb93e7d0>"
            ]
          },
          "metadata": {},
          "execution_count": 25
        },
        {
          "output_type": "display_data",
          "data": {
            "text/plain": [
              "<Figure size 432x288 with 1 Axes>"
            ],
            "image/png": "[encoded data removed]"
          },
          "metadata": {}
        }
      ],
      "source": [
        "sns.histplot(df['COVID-19 deaths per 100,000 population in 2020'],kde = False)"
      ]
    },
    {
      "cell_type": "markdown",
      "metadata": {
        "id": "ZvCh0ejFfS7R"
      },
      "source": [
        "The chart above calculates a kernel density as well. To get a real histogram, we have to disable the `kde` feature. We can also increase to number of buckets for our histogram by setting `bins` to 50."
      ]
    },
    {
      "cell_type": "code",
      "execution_count": 24,
      "metadata": {
        "colab": {
          "base_uri": "https://localhost:8080/",
          "height": 318
        },
        "id": "k9JH0EwUfS7R",
        "outputId": "32661d6f-538e-461e-9cbc-4648eda3295c"
      },
      "outputs": [
        {
          "output_type": "execute_result",
          "data": {
            "text/plain": [
              "<matplotlib.axes._subplots.AxesSubplot at 0x7fc3fb959f90>"
            ]
          },
          "metadata": {},
          "execution_count": 24
        },
        {
          "output_type": "display_data",
          "data": {
            "text/plain": [
              "<Figure size 432x288 with 1 Axes>"
            ],
            "image/png": "[encoded data removed]"
          },
          "metadata": {}
        }
      ],
      "source": [
        "sns.histplot(df['COVID-19 deaths per 100,000 population in 2020'])"
      ]
    },
    {
      "cell_type": "markdown",
      "metadata": {
        "id": "jqDh-XpRfS7R"
      },
      "source": [
        "Interesting! The ages of the people in this dataset seem to end with two or seven.\n",
        "\n",
        "We can do the same for every numerical column, e.g. the years of marriage."
      ]
    },
    {
      "cell_type": "code",
      "execution_count": 23,
      "metadata": {
        "colab": {
          "base_uri": "https://localhost:8080/",
          "height": 493
        },
        "id": "5jJ7swPEfS7S",
        "outputId": "1f080de5-38f2-4ac8-d2eb-b0045551d206"
      },
      "outputs": [
        {
          "output_type": "execute_result",
          "data": {
            "text/plain": [
              "<matplotlib.axes._subplots.AxesSubplot at 0x7fc3fe74c710>"
            ]
          },
          "metadata": {},
          "execution_count": 23
        },
        {
          "output_type": "display_data",
          "data": {
            "text/plain": [
              "<Figure size 432x288 with 1 Axes>"
            ],
            "image/png": "[encoded data removed]"
          },
          "metadata": {}
        }
      ],
      "source": [
        "sns.scatterplot(data = df,x = df[\"Gini coefficient of income\"],y=df['COVID-19 deaths per 100,000 population in 2020'])"
      ]
    },
    {
      "cell_type": "markdown",
      "metadata": {
        "id": "0IMhJKoEfS7S"
      },
      "source": [
        "The average age of our people is around 32, but the most people are married for more than 14 years!"
      ]
    },
    {
      "cell_type": "markdown",
      "metadata": {
        "id": "pQx2noGmfS7S"
      },
      "source": [
        "### Bivariate Plotting"
      ]
    },
    {
      "cell_type": "markdown",
      "metadata": {
        "id": "6h2xLbK1fS7S"
      },
      "source": [
        "Numbers get even more interesting when we can compare them to other numbers! Lets start comparing the number of years married vs the number of affairs. Seaborn provides us with a method called `jointplot` for this use case."
      ]
    },
    {
      "cell_type": "code",
      "execution_count": 22,
      "metadata": {
        "colab": {
          "base_uri": "https://localhost:8080/",
          "height": 548
        },
        "id": "BOhamyPkfS7S",
        "outputId": "07d4329a-5e88-485f-ce51-c24260696154"
      },
      "outputs": [
        {
          "output_type": "stream",
          "name": "stderr",
          "text": [
            "/usr/local/lib/python3.7/dist-packages/seaborn/axisgrid.py:1740: UserWarning: Tight layout not applied. tight_layout cannot make axes height small enough to accommodate all axes decorations\n",
            "  f.tight_layout()\n"
          ]
        },
        {
          "output_type": "execute_result",
          "data": {
            "text/plain": [
              "<seaborn.axisgrid.JointGrid at 0x7fc3ff05d110>"
            ]
          },
          "metadata": {},
          "execution_count": 22
        },
        {
          "output_type": "display_data",
          "data": {
            "text/plain": [
              "<Figure size 432x432 with 3 Axes>"
            ],
            "image/png": "[encoded data removed]"
          },
          "metadata": {}
        }
      ],
      "source": [
        "sns.jointplot(data = df,x = df[\"Median age\"],y = df['COVID-19 deaths per 100,000 population in 2020'])"
      ]
    },
    {
      "cell_type": "markdown",
      "metadata": {
        "id": "kSO5kFjcfS7T"
      },
      "source": [
        "To get a better feeling of how the number of affairs is affected by the number of years married, we can use a regression model by specifying `kind` as `reg`."
      ]
    },
    {
      "cell_type": "code",
      "execution_count": 26,
      "metadata": {
        "colab": {
          "base_uri": "https://localhost:8080/",
          "height": 493
        },
        "id": "9UvePDEsfS7T",
        "outputId": "98f51671-ba9a-4495-83f0-be65afb12310"
      },
      "outputs": [
        {
          "output_type": "execute_result",
          "data": {
            "text/plain": [
              "<matplotlib.axes._subplots.AxesSubplot at 0x7fc3fb854750>"
            ]
          },
          "metadata": {},
          "execution_count": 26
        },
        {
          "output_type": "display_data",
          "data": {
            "text/plain": [
              "<Figure size 432x288 with 1 Axes>"
            ],
            "image/png": "[encoded data removed]"
          },
          "metadata": {}
        }
      ],
      "source": [
        "sns.histplot(data = df,x = df[\"Median age\"],y = df['COVID-19 deaths per 100,000 population in 2020'])"
      ]
    },
    {
      "cell_type": "markdown",
      "metadata": {
        "id": "N9aSjP3CfS7T"
      },
      "source": [
        "We can also use a kernel to kompare the density of two columns against each other, e.g. `age` and `ym`."
      ]
    },
    {
      "cell_type": "code",
      "execution_count": null,
      "metadata": {
        "id": "EzvYXZqafS7T"
      },
      "outputs": [],
      "source": []
    },
    {
      "cell_type": "markdown",
      "metadata": {
        "id": "husMTqTtfS7T"
      },
      "source": [
        "We can get an even better comparison by plotting everything vs everything! Seaborn provides this with the `pairplot` method."
      ]
    },
    {
      "cell_type": "markdown",
      "metadata": {
        "id": "KXO_RoQsfS7U"
      },
      "source": [
        "You won't see any special in this data. We need to separate them by some kind of criteria. We can use our categorical values to do this! Seaborn uses a parameter called `hue` to do this. Let's separate our data by `sex` first. To make things even more interesting, let's create a regression for every plot, too!"
      ]
    },
    {
      "cell_type": "code",
      "execution_count": null,
      "metadata": {
        "id": "HwEKIXxFfS7U"
      },
      "outputs": [],
      "source": []
    },
    {
      "cell_type": "markdown",
      "metadata": {
        "id": "nLLb4IyCfS7U"
      },
      "source": [
        "To get even better separation, we can use `lmplot` to compare just the fields we need.\n",
        "\n",
        "Let's say we're interested in the number of affairs vs years married. We also whant to separate them by `sex`, `child` and `religious`. We will use `sns.lmplot(x=\"ym\", y=\"nbaffairs\", hue=\"sex\", col=\"child\", row=\"religious\", data=affairs)` to achieve this."
      ]
    },
    {
      "cell_type": "code",
      "execution_count": null,
      "metadata": {
        "id": "FyXdnn_QfS7U"
      },
      "outputs": [],
      "source": []
    },
    {
      "cell_type": "markdown",
      "metadata": {
        "id": "wwKLPBMzfS7U"
      },
      "source": [
        "Here are some categorical plots to explore the dataset even further."
      ]
    },
    {
      "cell_type": "code",
      "execution_count": null,
      "metadata": {
        "id": "1SdxnqqhfS7U"
      },
      "outputs": [],
      "source": []
    },
    {
      "cell_type": "code",
      "execution_count": null,
      "metadata": {
        "id": "AjZkXo9ifS7V"
      },
      "outputs": [],
      "source": []
    },
    {
      "cell_type": "markdown",
      "metadata": {
        "id": "sXLQKpf9fS7V"
      },
      "source": [
        "We can also get the correlations between the values by using Pandas builtin method `corr()`."
      ]
    },
    {
      "cell_type": "code",
      "execution_count": null,
      "metadata": {
        "id": "N6Xos0QRfS7V"
      },
      "outputs": [],
      "source": []
    },
    {
      "cell_type": "markdown",
      "metadata": {
        "id": "IO9sPzD6fS7V"
      },
      "source": [
        "Feed these stats into Seaborns `heatmap` method will provide us with the visual representation."
      ]
    },
    {
      "cell_type": "code",
      "execution_count": null,
      "metadata": {
        "id": "GJXsyoHUfS7V"
      },
      "outputs": [],
      "source": []
    },
    {
      "cell_type": "code",
      "execution_count": null,
      "metadata": {
        "collapsed": true,
        "id": "1Ux9QLXofS7V"
      },
      "outputs": [],
      "source": []
    }
  ],
  "metadata": {
    "kernelspec": {
      "display_name": "Python 3",
      "language": "python",
      "name": "python3"
    },
    "language_info": {
      "codemirror_mode": {
        "name": "ipython",
        "version": 3
      },
      "file_extension": ".py",
      "mimetype": "text/x-python",
      "name": "python",
      "nbconvert_exporter": "python",
      "pygments_lexer": "ipython3",
      "version": "3.6.2"
    },
    "colab": {
      "provenance": [],
      "collapsed_sections": [],
      "include_colab_link": true
    }
  },
  "nbformat": 4,
  "nbformat_minor": 0
}